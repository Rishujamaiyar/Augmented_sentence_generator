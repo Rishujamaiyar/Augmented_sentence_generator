{
  "nbformat": 4,
  "nbformat_minor": 0,
  "metadata": {
    "colab": {
      "name": "Untitled21.ipynb",
      "provenance": []
    },
    "kernelspec": {
      "name": "python3",
      "display_name": "Python 3"
    },
    "language_info": {
      "name": "python"
    }
  },
  "cells": [
    {
      "cell_type": "code",
      "metadata": {
        "colab": {
          "base_uri": "https://localhost:8080/"
        },
        "id": "g9Zoj7BHnDPJ",
        "outputId": "2586f1c7-4fdd-4b81-8533-6754f0366407"
      },
      "source": [
        "text = \"In just 5 years over a billion people have become regular users of Facebook.\"\n",
        "aug_sent = augment(text,'ru')\n",
        "print(aug_sent)"
      ],
      "execution_count": null,
      "outputs": [
        {
          "output_type": "stream",
          "name": "stdout",
          "text": [
            "In just 5 years more than a billion people have become regular Facebook users.\n"
          ]
        }
      ]
    },
    {
      "cell_type": "code",
      "metadata": {
        "colab": {
          "base_uri": "https://localhost:8080/"
        },
        "id": "oRX892SJoEbe",
        "outputId": "6012feb0-b2ab-4c79-a2f9-362b5869ceef"
      },
      "source": [
        "emb1 = model.encode(text, show_progress_bar=False)\n",
        "emb2 = model.encode(aug_sent, show_progress_bar=False)\n",
        "c_s = 1 - spatial.distance.cosine(emb1, emb2)\n",
        "c_s"
      ],
      "execution_count": null,
      "outputs": [
        {
          "output_type": "execute_result",
          "data": {
            "text/plain": [
              "0.9951854348182678"
            ]
          },
          "metadata": {},
          "execution_count": 9
        }
      ]
    }
  ]
}